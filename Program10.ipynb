{
 "cells": [
  {
   "cell_type": "code",
   "execution_count": 1,
   "id": "8b01410e",
   "metadata": {},
   "outputs": [],
   "source": [
    "import math"
   ]
  },
  {
   "cell_type": "code",
   "execution_count": 22,
   "id": "1a1ac05d",
   "metadata": {},
   "outputs": [],
   "source": [
    "def basic():\n",
    "    print(\"\\n---BASIC OPERATIONS---\")\n",
    "    num1=float(input(\"Enter the first Value\"))\n",
    "    op=input(\"Enter the operator (+,-,*,/)\")\n",
    "    num2=float(input(\"Enter the second Value\"))\n",
    "    if op=='+':\n",
    "        res=num1+num2\n",
    "    elif op=='-':\n",
    "        res=num1-num2\n",
    "    elif op=='*':\n",
    "        res=num1*num2\n",
    "    elif op=='/':\n",
    "        if num2!=0:\n",
    "            res=num1/num2\n",
    "    else:\n",
    "        print(\"Error: Invalid operator\")\n",
    "        \n",
    "    print(f\"Result: {res}\")\n"
   ]
  },
  {
   "cell_type": "code",
   "execution_count": 44,
   "id": "fdbd5222",
   "metadata": {},
   "outputs": [],
   "source": [
    "def adv():\n",
    "    print(\"\\n---ADVANCE OPERATION---\")\n",
    "    print(\"\"\"1:Square Root\n",
    "             2:Exponentiation\n",
    "             3:Sine\n",
    "             4:Cosine\n",
    "             5.Tangent\"\"\")\n",
    "    choice=int(input(\"Enter your choice\"))\n",
    "    if choice == 1:\n",
    "               num=float(input(\"Enter the number: \"))\n",
    "               result=math.sqrt(num)\n",
    "               print(f\"Square root of {num} is: {result}\")\n",
    "    elif choice==2:\n",
    "                base=float(input(\"Enter the base: \"))\n",
    "                exp=float(input(\"Enter the exponential value: \"))\n",
    "                result=math.pow(base,exp)\n",
    "                print(f\"{base} riased to the power {exp} results: {result}\")\n",
    "    elif choice==3:\n",
    "                angle=float(input(\"Enter the angle in degrees: \"))\n",
    "                result=math.sin(math.radians(angle))\n",
    "                print(f\"sine of {angle} is {result}\")\n",
    "    elif choice==4:\n",
    "                angle=float(input(\"Enter the angle in degrees: \"))\n",
    "                result=math.cos(math.radians(angle))\n",
    "                print(f\"cosine  of {angle} is {result}\")\n",
    "    elif choice==5:\n",
    "                angle=float(input(\"Enter the angle in degrees: \"))\n",
    "                result=math.tan(math.radians(angle))\n",
    "                print(f\"tan of {angle} is {result}\")   "
   ]
  },
  {
   "cell_type": "code",
   "execution_count": 45,
   "id": "c6116e95",
   "metadata": {},
   "outputs": [
    {
     "name": "stdout",
     "output_type": "stream",
     "text": [
      "\n",
      "---CHOOSE AN OPERATION---\n",
      "1: Basic Operations\n",
      "2: Advanced Operations\n",
      "3: Exit\n",
      "Enter your choice: 2\n",
      "\n",
      "---ADVANCE OPERATION---\n",
      "1:Square Root\n",
      "             2:Exponentiation\n",
      "             3:Sine\n",
      "             4:Cosine\n",
      "             5.Tangent\n",
      "Enter your choice3\n",
      "Enter the angle in degrees: 90\n",
      "sine of 90.0 is 1.0\n",
      "\n",
      "---CHOOSE AN OPERATION---\n",
      "1: Basic Operations\n",
      "2: Advanced Operations\n",
      "3: Exit\n",
      "Enter your choice: 3\n",
      "Thank you for using the calculator. Exiting...\n"
     ]
    }
   ],
   "source": [
    "while True:\n",
    "        print(\"\\n---CHOOSE AN OPERATION---\")\n",
    "        print(\"1: Basic Operations\")\n",
    "        print(\"2: Advanced Operations\")\n",
    "        print(\"3: Exit\")\n",
    "        \n",
    "        choice = input(\"Enter your choice: \")\n",
    "        \n",
    "        if choice == '1':\n",
    "            basic()\n",
    "        elif choice == '2':\n",
    "            adv()\n",
    "        elif choice == '3':\n",
    "            print(\"Thank you for using the calculator. Exiting...\")\n",
    "            break\n",
    "        else:\n",
    "            print(\"Error: Invalid choice, please try again.\")    "
   ]
  }
 ],
 "metadata": {
  "kernelspec": {
   "display_name": "Python 3 (ipykernel)",
   "language": "python",
   "name": "python3"
  },
  "language_info": {
   "codemirror_mode": {
    "name": "ipython",
    "version": 3
   },
   "file_extension": ".py",
   "mimetype": "text/x-python",
   "name": "python",
   "nbconvert_exporter": "python",
   "pygments_lexer": "ipython3",
   "version": "3.10.9"
  }
 },
 "nbformat": 4,
 "nbformat_minor": 5
}
